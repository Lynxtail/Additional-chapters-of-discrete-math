{
 "cells": [
  {
   "cell_type": "markdown",
   "metadata": {},
   "source": [
    "Ссылка на [репозиторий](https://github.com/Lynxtail/Additional-chapters-of-fundamental-training)"
   ]
  },
  {
   "cell_type": "markdown",
   "metadata": {},
   "source": [
    "## Проверка полиномов f и g на биективность/транзитивность."
   ]
  },
  {
   "cell_type": "markdown",
   "metadata": {},
   "source": [
    "### Задание А, вариант 1\n",
    "$$ f(x) = 11 - 3x + 2x^2 $$\n",
    "$$ g(x) = 13x - 1 $$"
   ]
  },
  {
   "cell_type": "code",
   "execution_count": 39,
   "metadata": {},
   "outputs": [],
   "source": [
    "def check(z, fun):\n",
    "    print(f\"Полином {z}:\\n\")\n",
    "\n",
    "    # биективность\n",
    "    z_ring = list(range(2**2))\n",
    "    print(f'Кольцо вычетов 2^2: {z_ring}')\n",
    "\n",
    "    x = z_ring[0]\n",
    "    f_im = []\n",
    "    while x not in f_im:\n",
    "        f_im.append(x)\n",
    "        print(f'x = {x}; f(x) = {fun(x, z) % 4}')\n",
    "        x = fun(x, z) % 4\n",
    "    print(f'==> биективен\\n' if sorted(f_im) == z_ring else f'==> не биективен')\n",
    "\n",
    "    # транзитивность\n",
    "    z_ring = list(range(2**3))\n",
    "    print(f'Кольцо вычетов 2^3: {z_ring}')\n",
    "\n",
    "    x = z_ring[0]\n",
    "    f_im = []\n",
    "    while x not in f_im:\n",
    "        f_im.append(x)\n",
    "        print(f'x = {x}; f(x) = {fun(x, z) % 8}')\n",
    "        x = fun(x, z) % 8\n",
    "    print(f'==> транзитивен\\n' if sorted(f_im) == z_ring else f'==> не транзитивен')"
   ]
  },
  {
   "cell_type": "markdown",
   "metadata": {},
   "source": [
    "Ввод коэффициентов через пробел ячейкой ниже:"
   ]
  },
  {
   "cell_type": "code",
   "execution_count": 46,
   "metadata": {},
   "outputs": [],
   "source": [
    "z = input().split(' ')\n",
    "z = list(map(float, z))\n",
    "\n",
    "f = lambda x, z : sum([z[i]*x**(len(z) - 1 - i) for i in range(len(z))])"
   ]
  },
  {
   "cell_type": "code",
   "execution_count": 47,
   "metadata": {},
   "outputs": [
    {
     "name": "stdout",
     "output_type": "stream",
     "text": [
      "Полином [3.0, 9.0, 2.0]:\n",
      "\n",
      "Кольцо вычетов 2^2: [0, 1, 2, 3]\n",
      "x = 0; f(x) = 2.0\n",
      "x = 2.0; f(x) = 0.0\n",
      "==> не биективен\n",
      "Кольцо вычетов 2^3: [0, 1, 2, 3, 4, 5, 6, 7]\n",
      "x = 0; f(x) = 2.0\n",
      "x = 2.0; f(x) = 0.0\n",
      "==> не транзитивен\n"
     ]
    }
   ],
   "source": [
    "check(z, f)"
   ]
  },
  {
   "cell_type": "markdown",
   "metadata": {},
   "source": [
    "## Проверка функции на транзитивность по модулю 256"
   ]
  },
  {
   "cell_type": "markdown",
   "metadata": {},
   "source": [
    "### Задание А*, вариант 1"
   ]
  },
  {
   "cell_type": "markdown",
   "metadata": {},
   "source": [
    "$$ f(x) = (xXOR1)XOR(2(xAND(1+2x)AND(3+4x)AND(7+8x)AND(15+16x)AND(31+32x)AND(63+64x)))XOR(4(x^2+1)) $$"
   ]
  },
  {
   "cell_type": "code",
   "execution_count": null,
   "metadata": {},
   "outputs": [],
   "source": []
  }
 ],
 "metadata": {
  "kernelspec": {
   "display_name": "Python 3.9.7 64-bit",
   "language": "python",
   "name": "python3"
  },
  "language_info": {
   "codemirror_mode": {
    "name": "ipython",
    "version": 3
   },
   "file_extension": ".py",
   "mimetype": "text/x-python",
   "name": "python",
   "nbconvert_exporter": "python",
   "pygments_lexer": "ipython3",
   "version": "3.9.7"
  },
  "orig_nbformat": 4,
  "vscode": {
   "interpreter": {
    "hash": "0d591c6e422414675974e227c13f5382000c440fedd3c5006ef2be5d887f0ba7"
   }
  }
 },
 "nbformat": 4,
 "nbformat_minor": 2
}
