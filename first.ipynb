{
 "cells": [
  {
   "cell_type": "markdown",
   "metadata": {},
   "source": [
    "### Проверка полиномов f и g на биективность/транзитивность.\n",
    "\n",
    "$$ f(x) = 11 - 3x + 2x^2 $$\n",
    "$$ g(x) = 13x - 1 $$"
   ]
  },
  {
   "cell_type": "code",
   "execution_count": 1,
   "metadata": {},
   "outputs": [],
   "source": [
    "def check(z, fun):\n",
    "    print(f\"Полином {z}:\\n\")\n",
    "\n",
    "    # биективность\n",
    "    z_ring = list(range(2**2))\n",
    "    # print(z_ring)\n",
    "    [print(f\"x = {item}; f(x) = {fun(item) % 4}\") for item in z_ring]\n",
    "    flag = all(fun(item) % 4 in z_ring for item in z_ring)\n",
    "    print(f'==> биективен: {bool(flag)}\\n')\n",
    "\n",
    "    # транзитивность\n",
    "    z_ring = list(range(2**3))\n",
    "    # print(z_ring)\n",
    "    [print(f\"x = {item}; f(x) = {fun(item) % 8}\") for item in z_ring]\n",
    "    flag = all(fun(item) % 8 in z_ring for item in z_ring)\n",
    "    print(f'==> транзитивен: {bool(flag)}')"
   ]
  },
  {
   "cell_type": "code",
   "execution_count": null,
   "metadata": {},
   "outputs": [],
   "source": [
    "# z_f = (2, 3, 7)\n",
    "# f = lambda x : 2*x**2 + 3*x + 7\n",
    "\n",
    "z_f = (2, -3, 11)\n",
    "f = lambda x : 11 - 3*x + 2*x**2\n",
    "\n",
    "z_j = (13, -1)\n",
    "j = lambda x : 13*x - 1"
   ]
  },
  {
   "cell_type": "code",
   "execution_count": 2,
   "metadata": {},
   "outputs": [
    {
     "name": "stdout",
     "output_type": "stream",
     "text": [
      "Полином (2, -3, 11):\n",
      "\n",
      "x = 0; f(x) = 3\n",
      "x = 1; f(x) = 2\n",
      "x = 2; f(x) = 1\n",
      "x = 3; f(x) = 0\n",
      "==> биективен: True\n",
      "\n",
      "x = 0; f(x) = 3\n",
      "x = 1; f(x) = 2\n",
      "x = 2; f(x) = 5\n",
      "x = 3; f(x) = 4\n",
      "x = 4; f(x) = 7\n",
      "x = 5; f(x) = 6\n",
      "x = 6; f(x) = 1\n",
      "x = 7; f(x) = 0\n",
      "==> транзитивен: True\n",
      "__________________________________________________\n",
      "Полином (13, -1):\n",
      "\n",
      "x = 0; f(x) = 3\n",
      "x = 1; f(x) = 0\n",
      "x = 2; f(x) = 1\n",
      "x = 3; f(x) = 2\n",
      "==> биективен: True\n",
      "\n",
      "x = 0; f(x) = 7\n",
      "x = 1; f(x) = 4\n",
      "x = 2; f(x) = 1\n",
      "x = 3; f(x) = 6\n",
      "x = 4; f(x) = 3\n",
      "x = 5; f(x) = 0\n",
      "x = 6; f(x) = 5\n",
      "x = 7; f(x) = 2\n",
      "==> транзитивен: True\n"
     ]
    }
   ],
   "source": [
    "check(z_f, f)\n",
    "print('_'*50)\n",
    "check(z_j, j)"
   ]
  },
  {
   "cell_type": "code",
   "execution_count": null,
   "metadata": {},
   "outputs": [],
   "source": []
  }
 ],
 "metadata": {
  "kernelspec": {
   "display_name": "Python 3.9.7 64-bit",
   "language": "python",
   "name": "python3"
  },
  "language_info": {
   "codemirror_mode": {
    "name": "ipython",
    "version": 3
   },
   "file_extension": ".py",
   "mimetype": "text/x-python",
   "name": "python",
   "nbconvert_exporter": "python",
   "pygments_lexer": "ipython3",
   "version": "3.9.7"
  },
  "orig_nbformat": 4,
  "vscode": {
   "interpreter": {
    "hash": "0d591c6e422414675974e227c13f5382000c440fedd3c5006ef2be5d887f0ba7"
   }
  }
 },
 "nbformat": 4,
 "nbformat_minor": 2
}
