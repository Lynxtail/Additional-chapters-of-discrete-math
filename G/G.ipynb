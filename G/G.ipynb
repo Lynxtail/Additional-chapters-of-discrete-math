{
 "cells": [
  {
   "attachments": {},
   "cell_type": "markdown",
   "metadata": {},
   "source": [
    "# [Репозиторий](https://github.com/Lynxtail/Additional-chapters-of-fundamental-training)"
   ]
  },
  {
   "attachments": {},
   "cell_type": "markdown",
   "metadata": {},
   "source": [
    "## Задание G, вариант 1"
   ]
  },
  {
   "attachments": {},
   "cell_type": "markdown",
   "metadata": {},
   "source": [
    "Выполнить хэширование с помощью $T$-функции $H : \\{0, 1\\}^m \\times \\{0, 1\\}^m \\rightarrow \\{0, 1\\}^m$. Для построения функции $H$ нужно использовать корректно определенные операции (арифметические, поразрядные логические, экспоненцирование, деление)."
   ]
  },
  {
   "cell_type": "code",
   "execution_count": 131,
   "metadata": {},
   "outputs": [],
   "source": [
    "import bitstring as bs\n",
    "import matplotlib as plt\n",
    "import random"
   ]
  },
  {
   "attachments": {},
   "cell_type": "markdown",
   "metadata": {},
   "source": [
    "### Определение операций"
   ]
  },
  {
   "cell_type": "code",
   "execution_count": 132,
   "metadata": {},
   "outputs": [],
   "source": [
    "# наложение маски a and C\n",
    "def mask_(a:bs.BitArray, C:bs.BitArray='1111') -> bs.BitArray:\n",
    "    return a & C"
   ]
  },
  {
   "cell_type": "code",
   "execution_count": 146,
   "metadata": {},
   "outputs": [],
   "source": [
    "# экспоненцирование x |^ y := (1 + 2x)^y\n",
    "def expo_(x:int, y:int) -> int:\n",
    "    return (1 + 2 * x)**y"
   ]
  },
  {
   "cell_type": "code",
   "execution_count": 147,
   "metadata": {},
   "outputs": [],
   "source": [
    "# деление x/y := x(y |^ (-1)) = x / (1 + 2y)\n",
    "def divide_(x:int, y:int) -> int:\n",
    "    return x * expo_(y, -1)"
   ]
  },
  {
   "cell_type": "code",
   "execution_count": 135,
   "metadata": {},
   "outputs": [],
   "source": [
    "# редуцирование a mod 2^n\n",
    "def reduce_(a:bs.BitArray, n:int) -> bs.BitArray:\n",
    "    return a % 2**n"
   ]
  },
  {
   "attachments": {},
   "cell_type": "markdown",
   "metadata": {},
   "source": [
    "Построение $T-$ функции $H:\\{0, 1\\}^m \\times \\{0,1\\}^m \\rightarrow \\{0,1\\}^m$"
   ]
  },
  {
   "attachments": {},
   "cell_type": "markdown",
   "metadata": {},
   "source": [
    "Например: $$\\left( (7 + x^5)^{x^3 \\,\\text{OR}\\,x^7} + 8 \\cdot ((x \\,\\text{XOR}\\, 5) - x^3 \\cdot (x \\,\\text{AND}\\, x^2)) ^ \\frac{6x^4}{1+2x} \\right)^\\frac{3x^2 + 8x^5}{9 + 10x^9}$$"
   ]
  },
  {
   "cell_type": "code",
   "execution_count": 149,
   "metadata": {},
   "outputs": [],
   "source": [
    "# H - T-функция на {0, 1}^m, где m - длина\n",
    "def H_1(x:bs.BitArray) -> bs.BitArray:\n",
    "    # e.g.\n",
    "    return expo_(expo_(7 + expo_(x.i, 5), expo_(x.i, 3) | expo_(x.i, 7)) + \n",
    "        8 * ((x ^ 5) - expo_(x.i, 3) * expo_(x & expo_(x.i, 2), divide_(6 * expo_(x.i, 4), 1 + 2 * x))), \n",
    "            divide_(3 * expo_(x.i, 2) + 8 * expo_(x.i, 5), 9 + 10 * expo_(x.i, 9)))"
   ]
  },
  {
   "cell_type": "code",
   "execution_count": 150,
   "metadata": {},
   "outputs": [],
   "source": [
    "# H - T-функция на {0, 1}^m, где m - длина\n",
    "def H_2(x:bs.BitArray, y:bs.BitArray) -> bs.BitArray:\n",
    "    # e.g.\n",
    "    return (x ^ y) + (1 + expo_(x.i, 2)) "
   ]
  },
  {
   "attachments": {},
   "cell_type": "markdown",
   "metadata": {},
   "source": [
    "Построение графика"
   ]
  },
  {
   "cell_type": "code",
   "execution_count": 138,
   "metadata": {},
   "outputs": [],
   "source": [
    "# построение графика T-функции\n",
    "def draw(x:list[int], y:list[int]) -> None:\n",
    "    plt.scatter(x, y, s=1)\n",
    "    plt.title(f'')\n",
    "    plt.show()"
   ]
  },
  {
   "attachments": {},
   "cell_type": "markdown",
   "metadata": {},
   "source": [
    "Ввод исходного сообщения:"
   ]
  },
  {
   "cell_type": "code",
   "execution_count": 139,
   "metadata": {},
   "outputs": [],
   "source": [
    "# w - исходное сообщение\n",
    "# ввести между кавычек\n",
    "w = 'asfgagas sgasdgsagdz'\n"
   ]
  },
  {
   "cell_type": "code",
   "execution_count": 140,
   "metadata": {},
   "outputs": [],
   "source": [
    "# h_0 - произвольный вектор длины m\n",
    "m = 3\n",
    "h_0 = [random.randint(0, 1) for _ in range(m)]\n",
    "h_0 = ''.join(map(str, h_0))\n",
    "h_0 = bs.BitArray(bin=h_0)\n"
   ]
  },
  {
   "cell_type": "code",
   "execution_count": 141,
   "metadata": {},
   "outputs": [],
   "source": [
    "# разбиение сообщения w на блоки a_i длины m каждый\n",
    "# w = [a_k]...[a_2][a_1]\n",
    "a = '.'.join(map(bin, bytearray(w, 'utf8')))[2:].replace('.0b', '')\n",
    "a = [a[i : i + m] for i in range(0, len(a), m)]\n",
    "# добавление незначащих нулей к крайнему a\n",
    "if len(a[-1]) < m:\n",
    "    a[-1] = ''.join(['0']*(m - len(a[-1]))) + a[-1]\n",
    "for i in range(len(a)):\n",
    "    a[i] = bs.BitArray(bin=a[i])"
   ]
  },
  {
   "cell_type": "code",
   "execution_count": 152,
   "metadata": {},
   "outputs": [
    {
     "name": "stdout",
     "output_type": "stream",
     "text": [
      "h1 = H((BitArray('0b110'), BitArray('0b001')))\n",
      "h2 = H((BitArray('0b000'), BitArray('0b1110000000000')))\n"
     ]
    },
    {
     "ename": "ValueError",
     "evalue": "Bitstrings must have the same length for ^ operator.",
     "output_type": "error",
     "traceback": [
      "\u001b[1;31m---------------------------------------------------------------------------\u001b[0m",
      "\u001b[1;31mValueError\u001b[0m                                Traceback (most recent call last)",
      "\u001b[1;32me:\\NoCode\\Additional-chapters-of-fundamental-training\\G\\G.ipynb Cell 20\u001b[0m in \u001b[0;36m<cell line: 5>\u001b[1;34m()\u001b[0m\n\u001b[0;32m      <a href='vscode-notebook-cell:/e%3A/NoCode/Additional-chapters-of-fundamental-training/G/G.ipynb#X30sZmlsZQ%3D%3D?line=4'>5</a>\u001b[0m \u001b[39mfor\u001b[39;00m i \u001b[39min\u001b[39;00m \u001b[39mrange\u001b[39m(k):\n\u001b[0;32m      <a href='vscode-notebook-cell:/e%3A/NoCode/Additional-chapters-of-fundamental-training/G/G.ipynb#X30sZmlsZQ%3D%3D?line=5'>6</a>\u001b[0m     \u001b[39mprint\u001b[39m(\u001b[39mf\u001b[39m\u001b[39m'\u001b[39m\u001b[39mh\u001b[39m\u001b[39m{\u001b[39;00mi \u001b[39m+\u001b[39m \u001b[39m1\u001b[39m\u001b[39m}\u001b[39;00m\u001b[39m = H(\u001b[39m\u001b[39m{\u001b[39;00ma[i], h[\u001b[39m-\u001b[39m\u001b[39m1\u001b[39m]\u001b[39m}\u001b[39;00m\u001b[39m)\u001b[39m\u001b[39m'\u001b[39m)\n\u001b[1;32m----> <a href='vscode-notebook-cell:/e%3A/NoCode/Additional-chapters-of-fundamental-training/G/G.ipynb#X30sZmlsZQ%3D%3D?line=6'>7</a>\u001b[0m     h\u001b[39m.\u001b[39mappend(H_2(a[i], h[\u001b[39m-\u001b[39;49m\u001b[39m1\u001b[39;49m]))\n\u001b[0;32m      <a href='vscode-notebook-cell:/e%3A/NoCode/Additional-chapters-of-fundamental-training/G/G.ipynb#X30sZmlsZQ%3D%3D?line=7'>8</a>\u001b[0m h\n",
      "\u001b[1;32me:\\NoCode\\Additional-chapters-of-fundamental-training\\G\\G.ipynb Cell 20\u001b[0m in \u001b[0;36mH_2\u001b[1;34m(x, y)\u001b[0m\n\u001b[0;32m      <a href='vscode-notebook-cell:/e%3A/NoCode/Additional-chapters-of-fundamental-training/G/G.ipynb#X30sZmlsZQ%3D%3D?line=1'>2</a>\u001b[0m \u001b[39mdef\u001b[39;00m \u001b[39mH_2\u001b[39m(x:bs\u001b[39m.\u001b[39mBitArray, y:bs\u001b[39m.\u001b[39mBitArray) \u001b[39m-\u001b[39m\u001b[39m>\u001b[39m bs\u001b[39m.\u001b[39mBitArray:\n\u001b[0;32m      <a href='vscode-notebook-cell:/e%3A/NoCode/Additional-chapters-of-fundamental-training/G/G.ipynb#X30sZmlsZQ%3D%3D?line=2'>3</a>\u001b[0m     \u001b[39m# e.g.\u001b[39;00m\n\u001b[1;32m----> <a href='vscode-notebook-cell:/e%3A/NoCode/Additional-chapters-of-fundamental-training/G/G.ipynb#X30sZmlsZQ%3D%3D?line=3'>4</a>\u001b[0m     \u001b[39mreturn\u001b[39;00m (x \u001b[39m^\u001b[39;49m y) \u001b[39m+\u001b[39m (\u001b[39m1\u001b[39m \u001b[39m+\u001b[39m expo_(x\u001b[39m.\u001b[39mi, \u001b[39m2\u001b[39m))\n",
      "File \u001b[1;32mc:\\Users\\Admin\\AppData\\Local\\Programs\\Python\\Python310\\lib\\site-packages\\bitstring.py:1357\u001b[0m, in \u001b[0;36mBits.__xor__\u001b[1;34m(self, bs)\u001b[0m\n\u001b[0;32m   1355\u001b[0m bs \u001b[39m=\u001b[39m Bits(bs)\n\u001b[0;32m   1356\u001b[0m \u001b[39mif\u001b[39;00m \u001b[39mself\u001b[39m\u001b[39m.\u001b[39mlen \u001b[39m!=\u001b[39m bs\u001b[39m.\u001b[39mlen:\n\u001b[1;32m-> 1357\u001b[0m     \u001b[39mraise\u001b[39;00m \u001b[39mValueError\u001b[39;00m(\u001b[39m\"\u001b[39m\u001b[39mBitstrings must have the same length for ^ operator.\u001b[39m\u001b[39m\"\u001b[39m)\n\u001b[0;32m   1358\u001b[0m s \u001b[39m=\u001b[39m \u001b[39mself\u001b[39m\u001b[39m.\u001b[39m_copy()\n\u001b[0;32m   1359\u001b[0m s\u001b[39m.\u001b[39m_ixor(bs)\n",
      "\u001b[1;31mValueError\u001b[0m: Bitstrings must have the same length for ^ operator."
     ]
    }
   ],
   "source": [
    "# h_{i+1} = H(a_{i+1}, h_i), i = 0, 1, ...\n",
    "# h_k - хеш-значение сообщения\n",
    "k = len(a)\n",
    "h = [h_0]\n",
    "for i in range(k):\n",
    "    print(f'h{i + 1} = H({a[i], h[-1]})')\n",
    "    h.append(H_2(a[i], h[-1]))\n",
    "h"
   ]
  }
 ],
 "metadata": {
  "kernelspec": {
   "display_name": "Python 3",
   "language": "python",
   "name": "python3"
  },
  "language_info": {
   "codemirror_mode": {
    "name": "ipython",
    "version": 3
   },
   "file_extension": ".py",
   "mimetype": "text/x-python",
   "name": "python",
   "nbconvert_exporter": "python",
   "pygments_lexer": "ipython3",
   "version": "3.10.4"
  },
  "orig_nbformat": 4,
  "vscode": {
   "interpreter": {
    "hash": "a42ccb73e7d9bfdf27e036f1d2b8b681e55fc0743cc5586bc2474d4a60f4b886"
   }
  }
 },
 "nbformat": 4,
 "nbformat_minor": 2
}
