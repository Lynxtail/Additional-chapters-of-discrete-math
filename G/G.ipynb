{
 "cells": [
  {
   "attachments": {},
   "cell_type": "markdown",
   "metadata": {},
   "source": [
    "# [Репозиторий](https://github.com/Lynxtail/Additional-chapters-of-fundamental-training)"
   ]
  },
  {
   "attachments": {},
   "cell_type": "markdown",
   "metadata": {},
   "source": [
    "## Задание G, вариант 1"
   ]
  },
  {
   "attachments": {},
   "cell_type": "markdown",
   "metadata": {},
   "source": [
    "Выполнить хэширование с помощью $T$-функции $H : \\{0, 1\\}^m \\times \\{0, 1\\}^m \\rightarrow \\{0, 1\\}^m$. Для построения функции $H$ нужно использовать корректно определенные операции (арифметические, поразрядные логические, экспоненцирование, деление)."
   ]
  },
  {
   "cell_type": "code",
   "execution_count": 2,
   "metadata": {},
   "outputs": [],
   "source": [
    "import bitstring as bs\n",
    "import matplotlib.pyplot as plt\n",
    "import random"
   ]
  },
  {
   "attachments": {},
   "cell_type": "markdown",
   "metadata": {},
   "source": [
    "### Определение операций"
   ]
  },
  {
   "cell_type": "code",
   "execution_count": 3,
   "metadata": {},
   "outputs": [],
   "source": [
    "# наложение маски a and C\n",
    "def mask_(a:bs.BitArray, C:bs.BitArray='0b1111') -> bs.BitArray:\n",
    "    return a & C"
   ]
  },
  {
   "cell_type": "code",
   "execution_count": 4,
   "metadata": {},
   "outputs": [],
   "source": [
    "# экспоненцирование x |^ y := (1 + 2x)^y\n",
    "def expo_(x:int, y:int, m:int) -> int:\n",
    "    return pow(1 + 2 * x, y, 2**m)"
   ]
  },
  {
   "cell_type": "code",
   "execution_count": 5,
   "metadata": {},
   "outputs": [],
   "source": [
    "# деление x/y := x(y |^ (-1)) = x / (1 + 2y)\n",
    "def divide_(x:int, y:int, m:int) -> int:\n",
    "    return x * expo_(y, -1, m)"
   ]
  },
  {
   "cell_type": "code",
   "execution_count": 6,
   "metadata": {},
   "outputs": [],
   "source": [
    "# редуцирование a mod 2^n\n",
    "def reduce_(a:int, n:int) -> int:\n",
    "    return a % 2**n"
   ]
  },
  {
   "attachments": {},
   "cell_type": "markdown",
   "metadata": {},
   "source": [
    "### Вспомогательные функции"
   ]
  },
  {
   "attachments": {},
   "cell_type": "markdown",
   "metadata": {},
   "source": [
    "Построение $T-$ функции $H:\\{0, 1\\}^m \\times \\{0,1\\}^m \\rightarrow \\{0,1\\}^m$"
   ]
  },
  {
   "attachments": {},
   "cell_type": "markdown",
   "metadata": {},
   "source": [
    "Пример такой функции: $$(x \\oplus y) + (1 + x^2)$$"
   ]
  },
  {
   "cell_type": "code",
   "execution_count": 7,
   "metadata": {},
   "outputs": [],
   "source": [
    "# H - T-функция на {0, 1}^m, где m - длина\n",
    "def H_1(x:bs.BitArray, y:bs.BitArray, m:int) -> bs.BitArray:\n",
    "    # e.g.\n",
    "    ans = bs.BitArray(bin((x ^ y).u + (1 + pow(x.u, 2, 2**m))))\n",
    "    if len(ans) > m:\n",
    "        ans.overwrite('0b' + ''.join(['0' for _ in range(len(ans) - m)]), 0)\n",
    "    ans = bs.BitArray(uint=ans.u, length=m)\n",
    "    return ans"
   ]
  },
  {
   "attachments": {},
   "cell_type": "markdown",
   "metadata": {},
   "source": [
    "Собственная функция: $$(x \\& y)^{x \\oplus y} + (x^4 \\cdot y \\uparrow x)$$"
   ]
  },
  {
   "cell_type": "code",
   "execution_count": 8,
   "metadata": {},
   "outputs": [],
   "source": [
    "# H - T-функция на {0, 1}^m, где m - длина\n",
    "def H_2(x:bs.BitArray, y:bs.BitArray, m:int) -> bs.BitArray:\n",
    "    ans = bs.BitArray(bin(pow((x & y).u, (x ^ y).u, 2**m) + (pow(x.u, 4, 2**m) * expo_(x.u, y.u, m))))\n",
    "    if len(ans) > m:\n",
    "        ans.overwrite('0b' + ''.join(['0' for _ in range(len(ans) - m)]), 0)\n",
    "    ans = bs.BitArray(uint=ans.u, length=m)\n",
    "    return ans"
   ]
  },
  {
   "attachments": {},
   "cell_type": "markdown",
   "metadata": {},
   "source": [
    "Разбиение сообщения W на блоки битов длиной $m$"
   ]
  },
  {
   "cell_type": "code",
   "execution_count": 9,
   "metadata": {},
   "outputs": [],
   "source": [
    "# разбиение сообщения w на блоки a_i длины m каждый\n",
    "# w = [a_k]...[a_2][a_1]\n",
    "def split_w(m:int, w:str) -> bs.BitArray:\n",
    "\n",
    "    # если сообщение не в виде бинарной строки\n",
    "    if len(set(w).difference({'0', '1'})) != 0:\n",
    "        a = '.'.join(map(bin, bytearray(w, 'utf8')))[2:].replace('.0b', '')\n",
    "    # если сообщение в виде бинарной строки\n",
    "    else: a = w\n",
    "\n",
    "    # разбиение\n",
    "    a = [a[max(i - m, 0) : i] for i in range(len(a), 0, -m)]\n",
    "\n",
    "    # добавление незначащих нулей к крайнему a\n",
    "    if len(a[-1]) < m:\n",
    "        a[-1] = ''.join(['0']*(m - len(a[-1]))) + a[-1]\n",
    "\n",
    "    for i in range(len(a)):\n",
    "        a[i] = bs.BitArray(bin=a[i])\n",
    "\n",
    "    print('a = { ', end='')\n",
    "    [print(f'[{item.b}]', end=' ') for item in a]\n",
    "    print('}')\n",
    "\n",
    "    return a"
   ]
  },
  {
   "attachments": {},
   "cell_type": "markdown",
   "metadata": {},
   "source": [
    "Генерация $h_0$ и вычисление значений функции $H(x, y)$:"
   ]
  },
  {
   "cell_type": "code",
   "execution_count": 19,
   "metadata": {},
   "outputs": [],
   "source": [
    "def calculate_h(w:str, m:int, a:bs.BitArray, fun:str) -> bs.BitArray:\n",
    "    # h_{i+1} = H(a_{i+1}, h_i), i = 0, 1, ...\n",
    "    # h_k - хеш-значение сообщения\n",
    "\n",
    "    h_0 = [random.randint(0, 1) for _ in range(m)]\n",
    "    h_0 = ''.join(map(str, h_0))\n",
    "    # h_0 = '010'\n",
    "    h_0 = bs.BitArray(bin=h_0)\n",
    "\n",
    "    k = len(a)\n",
    "    h = [h_0]\n",
    "    \n",
    "    print(f'Исходное сообщение:\\n{w}')\n",
    "    print(f'Используемая функция: {fun}')\n",
    "    print(f'h0 = {h_0.b}')\n",
    "    for i in range(k):\n",
    "        print(f'h{i + 1} = H{a[i].b, h[-1].b}', end=' = ')\n",
    "        if fun == '(x AND y)^{x XOR y} + (x^4 * y |^ x)':\n",
    "            h.append(H_2(a[i], h[-1], m))\n",
    "        if fun == '(x XOR y) + (1 + x^2)':\n",
    "            h.append(H_1(a[i], h[-1], m))\n",
    "        print(h[-1].b)\n",
    "    \n",
    "    return h"
   ]
  },
  {
   "cell_type": "code",
   "execution_count": 20,
   "metadata": {},
   "outputs": [],
   "source": [
    "def draw(fun:str, m:int) -> None:\n",
    "    x, y, z = [], [], []\n",
    "    for i in range(2 ** m):\n",
    "        for j in range(2 ** m):\n",
    "            x.append(i / (2 ** m))\n",
    "            y.append(j / (2 ** m))\n",
    "            if fun == '(x XOR y) + (1 + x^2)':\n",
    "                z.append((H_1(bs.BitArray(uint=i, length=m), bs.BitArray(uint=j, length=m), m).u % (2 ** m)) / (2 ** m))\n",
    "            if fun == '(x AND y)^{x XOR y} + (x^4 * y |^ x)':\n",
    "                z.append((H_2(bs.BitArray(uint=i, length=m), bs.BitArray(uint=j, length=m), m).u % (2 ** m)) / (2 ** m))\n",
    "\n",
    "    fig = plt.figure()\n",
    "    ax = fig.add_subplot(111, title=\"Проекция\", projection='3d')\n",
    "    ax.scatter(x, y, z, s=.5)\n",
    "    ax.set_xlabel(\"x\")\n",
    "    ax.set_ylabel(\"y\")\n",
    "    ax.set_zlabel(\"z\")\n",
    "    ax.grid()\n",
    "    plt.show()"
   ]
  },
  {
   "attachments": {},
   "cell_type": "markdown",
   "metadata": {},
   "source": [
    "### Основная часть"
   ]
  },
  {
   "attachments": {},
   "cell_type": "markdown",
   "metadata": {},
   "source": [
    "Ввод исходного сообщения и длины $m$ блоков разбиения:"
   ]
  },
  {
   "cell_type": "code",
   "execution_count": 21,
   "metadata": {},
   "outputs": [],
   "source": [
    "# w = input(\"Введите сообщение: \")\n",
    "# m = int(input(\"Введите длину m: \"))"
   ]
  },
  {
   "cell_type": "code",
   "execution_count": 22,
   "metadata": {},
   "outputs": [],
   "source": [
    "# тестовый пример\n",
    "w = '0011011010111'\n",
    "m = 3\n",
    "fun = '(x XOR y) + (1 + x^2)'"
   ]
  },
  {
   "cell_type": "code",
   "execution_count": 23,
   "metadata": {},
   "outputs": [
    {
     "name": "stdout",
     "output_type": "stream",
     "text": [
      "a = { [111] [010] [011] [011] [000] }\n",
      "Исходное сообщение:\n",
      "0011011010111\n",
      "Используемая функция: (x XOR y) + (1 + x^2)\n",
      "h0 = 100\n",
      "h1 = H('111', '100') = 101\n",
      "h2 = H('010', '101') = 100\n",
      "h3 = H('011', '100') = 001\n",
      "h4 = H('011', '001') = 100\n",
      "h5 = H('000', '100') = 101\n"
     ]
    },
    {
     "data": {
      "image/png": "[encoded data removed]",
      "text/plain": [
       "<Figure size 432x288 with 1 Axes>"
      ]
     },
     "metadata": {
      "needs_background": "light"
     },
     "output_type": "display_data"
    }
   ],
   "source": [
    "BA_2_uint = lambda x : x.u\n",
    "\n",
    "a = split_w(m, w)\n",
    "h = calculate_h(w, m, a, fun)\n",
    "draw(fun, m)"
   ]
  },
  {
   "cell_type": "code",
   "execution_count": 24,
   "metadata": {},
   "outputs": [],
   "source": [
    "w = 'Hello World'\n",
    "m = 10\n",
    "fun = '(x AND y)^{x XOR y} + (x^4 * y |^ x)'"
   ]
  },
  {
   "cell_type": "code",
   "execution_count": 25,
   "metadata": {},
   "outputs": [
    {
     "name": "stdout",
     "output_type": "stream",
     "text": [
      "a = { [1001100100] [1100101101] [1111011111] [0000010101] [0011011111] [0110011011] [0110010111] [0000100100] }\n",
      "Исходное сообщение:\n",
      "Hello World\n",
      "Используемая функция: (x AND y)^{x XOR y} + (x^4 * y |^ x)\n",
      "h0 = 1010100111\n",
      "h1 = H('1001100100', '1010100111') = 0100000000\n",
      "h2 = H('1100101101', '0100000000') = 1000010001\n",
      "h3 = H('1111011111', '1000010001') = 1100100000\n",
      "h4 = H('0000010101', '1100100000') = 0100110001\n",
      "h5 = H('0011011111', '0100110001') = 1100100000\n",
      "h6 = H('0110011011', '1100100000') = 1011110001\n",
      "h7 = H('0110010111', '1011110001') = 1101110000\n",
      "h8 = H('0000100100', '1101110000') = 0100000000\n"
     ]
    }
   ],
   "source": [
    "a = split_w(m, w)\n",
    "h = calculate_h(w, m, a, fun)\n",
    "draw(fun, m)"
   ]
  }
 ],
 "metadata": {
  "kernelspec": {
   "display_name": "Python 3",
   "language": "python",
   "name": "python3"
  },
  "language_info": {
   "codemirror_mode": {
    "name": "ipython",
    "version": 3
   },
   "file_extension": ".py",
   "mimetype": "text/x-python",
   "name": "python",
   "nbconvert_exporter": "python",
   "pygments_lexer": "ipython3",
   "version": "3.10.4"
  },
  "orig_nbformat": 4,
  "vscode": {
   "interpreter": {
    "hash": "a42ccb73e7d9bfdf27e036f1d2b8b681e55fc0743cc5586bc2474d4a60f4b886"
   }
  }
 },
 "nbformat": 4,
 "nbformat_minor": 2
}
