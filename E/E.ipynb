{
 "cells": [
  {
   "cell_type": "markdown",
   "metadata": {},
   "source": [
    "# Ссылка на [репозиторий](https://github.com/Lynxtail/Additional-chapters-of-fundamental-training)\n",
    "\n",
    "* [Задания A и A*](https://drive.google.com/file/d/15ESvtCxtjeayEYR31UNV5HtwuTwgE9hD/view?usp=sharing)\n",
    "* [Задание B](https://drive.google.com/file/d/1nPwEcHYR5Wbm6tPV8am0wja6dZPkrirD/view?usp=sharing)\n",
    "* [Задание C](https://drive.google.com/file/d/18ysVZXjaNIv_4NRoSRq0ZfmmMMHvu5RU/view?usp=sharing)\n",
    "* [Задание D](https://drive.google.com/file/d/174bG7yrtb4m3svCWWl91xPobmp3Rvqvb/view?usp=sharing)\n",
    "* [задание E](https://drive.google.com/file/d/120LYB7iRTVEn04hItIzmWkZCm0fmEdTf/view?usp=sharing)"
   ]
  },
  {
   "cell_type": "markdown",
   "metadata": {},
   "source": [
    "Варьировать n, вывести все орбиты"
   ]
  },
  {
   "cell_type": "markdown",
   "metadata": {},
   "source": [
    "## Задание E, вариант 1"
   ]
  },
  {
   "cell_type": "markdown",
   "metadata": {},
   "source": [
    "### Вычислить (бинормализованный) параметр стохастичности для орбиты $\\{a^l \\mod n\\}_{l=0}^\\infty$ динамической системы на группе $\\Gamma(n)$ взаимно простых вычетов по модулю натурального $n$ при эволюции $f(x) = a^x \\mod n$, где $(a, n) = 1$ (т.е. $a$ и $n$ взаимно простые)."
   ]
  },
  {
   "cell_type": "code",
   "execution_count": 17,
   "metadata": {},
   "outputs": [],
   "source": [
    "from math import gcd"
   ]
  },
  {
   "cell_type": "markdown",
   "metadata": {},
   "source": [
    "Ввод n ячейкой ниже:"
   ]
  },
  {
   "cell_type": "code",
   "execution_count": 18,
   "metadata": {},
   "outputs": [],
   "source": [
    "n = int(input('n = '))"
   ]
  },
  {
   "cell_type": "code",
   "execution_count": 19,
   "metadata": {},
   "outputs": [
    {
     "name": "stdout",
     "output_type": "stream",
     "text": [
      "a = 2\n"
     ]
    }
   ],
   "source": [
    "gamma = []\n",
    "for item in range(1, n):\n",
    "    if gcd(item, n) == 1: gamma.append(item)\n",
    "\n",
    "a = gamma[1]\n",
    "\n",
    "f = lambda x : a*x % n"
   ]
  },
  {
   "cell_type": "code",
   "execution_count": 20,
   "metadata": {},
   "outputs": [
    {
     "name": "stdout",
     "output_type": "stream",
     "text": [
      "x = 1\tf(x) = 2\n",
      "x = 2\tf(x) = 4\n",
      "x = 4\tf(x) = 8\n",
      "x = 8\tf(x) = 16\n",
      "x = 16\tf(x) = 11\n",
      "x = 11\tf(x) = 1\n"
     ]
    }
   ],
   "source": [
    "print(f'n = {n}')\n",
    "print(f'a = {a}')\n",
    "\n",
    "f_im = [[]]\n",
    "i = 0\n",
    "x = gamma[i]\n",
    "while x not in f_im[i]:\n",
    "    f_im[i].append(x)\n",
    "    print(f'x = {x}\\tf(x) = {f(x)}')\n",
    "    x = f(x)\n",
    "    if x in f_im[i] and i < n: \n",
    "        print()\n",
    "        f_im.append([])\n",
    "        x = gamma[i]"
   ]
  },
  {
   "cell_type": "code",
   "execution_count": 21,
   "metadata": {},
   "outputs": [
    {
     "name": "stdout",
     "output_type": "stream",
     "text": [
      "Квадраты расстояний между точками орбиты:\n",
      "[1, 1, 4, 4, 4, 16]\n"
     ]
    }
   ],
   "source": [
    "loop_pos = [gamma.index(x) for x in f_im]\n",
    "loop_pos = sorted(loop_pos)\n",
    "tmp = len(gamma) - loop_pos[-1]\n",
    "loop_pos = [(loop_pos[i] - loop_pos[i - 1])**2 for i in range(1, len(loop_pos))]\n",
    "loop_pos.append(tmp**2)\n",
    "print(f'Квадраты расстояний между точками орбиты:\\n{loop_pos}')"
   ]
  },
  {
   "cell_type": "code",
   "execution_count": 22,
   "metadata": {},
   "outputs": [
    {
     "name": "stdout",
     "output_type": "stream",
     "text": [
      "Критерий стохастичности R = 30\n",
      "Критерий стохастичности (нормализованный) r = 0.2083\n",
      "Критерий стохастичности (бинормализованный) s = 1.2500\n",
      "1.2500 < 2 --> стремится к равномерному распределению\n"
     ]
    }
   ],
   "source": [
    "print(f'Критерий стохастичности R = {sum(loop_pos)}')\n",
    "print(f'Критерий стохастичности (нормализованный) r = {sum(loop_pos) / len(gamma)**2:.4f}')\n",
    "print(f'Критерий стохастичности (бинормализованный) s = {sum(loop_pos) / len(gamma)**2 * len(loop_pos):.4f}')\n",
    "print(f'{sum(loop_pos) / len(gamma)**2 * len(loop_pos):.4f} < 2 --> стремится к равномерному распределению') \\\n",
    "    if sum(loop_pos) / len(gamma)**2 * len(loop_pos) < 2 else \\\n",
    "        print(f'{sum(loop_pos) / len(gamma)**2 * len(loop_pos):.4f} > 2 --> стремится к хаотичному распределению')"
   ]
  },
  {
   "cell_type": "code",
   "execution_count": null,
   "metadata": {},
   "outputs": [],
   "source": []
  }
 ],
 "metadata": {
  "kernelspec": {
   "display_name": "Python 3.9.7 64-bit",
   "language": "python",
   "name": "python3"
  },
  "language_info": {
   "codemirror_mode": {
    "name": "ipython",
    "version": 3
   },
   "file_extension": ".py",
   "mimetype": "text/x-python",
   "name": "python",
   "nbconvert_exporter": "python",
   "pygments_lexer": "ipython3",
   "version": "3.9.7 (tags/v3.9.7:1016ef3, Aug 30 2021, 20:19:38) [MSC v.1929 64 bit (AMD64)]"
  },
  "orig_nbformat": 4,
  "vscode": {
   "interpreter": {
    "hash": "0d591c6e422414675974e227c13f5382000c440fedd3c5006ef2be5d887f0ba7"
   }
  }
 },
 "nbformat": 4,
 "nbformat_minor": 2
}
