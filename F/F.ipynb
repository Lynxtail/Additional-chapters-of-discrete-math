{
 "cells": [
  {
   "attachments": {},
   "cell_type": "markdown",
   "metadata": {},
   "source": [
    "# [Репозиторий](https://github.com/Lynxtail/Additional-chapters-of-fundamental-training)"
   ]
  },
  {
   "attachments": {},
   "cell_type": "markdown",
   "metadata": {},
   "source": [
    "## Задание F, вариант 1"
   ]
  },
  {
   "attachments": {},
   "cell_type": "markdown",
   "metadata": {},
   "source": [
    "### Для натуральных $n = 14, 15, \\dots, 22$ вычислить структуры графов операций взятия разностей. Вычислить логарифмы при $p = 7, 11, 13, 17, 19, 23$ и найти соотвествующие им вершины $X$ в графах операций взятия разностей."
   ]
  },
  {
   "cell_type": "code",
   "execution_count": 10,
   "metadata": {},
   "outputs": [],
   "source": [
    "import matplotlib.pyplot as plt\n",
    "import networkx as nx\n",
    "import bitstring as bs\n",
    "from math import sqrt\n",
    "from typing import Any"
   ]
  },
  {
   "attachments": {},
   "cell_type": "markdown",
   "metadata": {},
   "source": [
    "Оператор взятия разности"
   ]
  },
  {
   "cell_type": "code",
   "execution_count": 11,
   "metadata": {},
   "outputs": [],
   "source": [
    "def A_diff(n : int, x : bs.BitArray) -> bs.BitArray:\n",
    "    y = bs.BitArray(uint=0, length=n)\n",
    "\n",
    "    for i in range(len(x.b) - 1):\n",
    "        y.set(int(x.b[i + 1]) ^ int(x.b[i]), i)\n",
    "    y.set(int(x.b[0]) ^ int(x.b[-1]), -1)\n",
    "\n",
    "    return y"
   ]
  },
  {
   "attachments": {},
   "cell_type": "markdown",
   "metadata": {},
   "source": [
    "Формирование графа"
   ]
  },
  {
   "cell_type": "code",
   "execution_count": 12,
   "metadata": {},
   "outputs": [],
   "source": [
    "def get_graph(n:int) -> nx.DiGraph:\n",
    "    # n = 3\n",
    "    # формирование списка узлов\n",
    "    nodes = list(range(2**n))\n",
    "    edges = list()\n",
    "\n",
    "    # операция взятия разности для элементов x\n",
    "    for item in nodes:\n",
    "        item = bs.BitArray(uint=item, length=n)\n",
    "        new_item = A_diff(n, item)\n",
    "        # print(f\"{item.b} ---> {new_item.b}\")\n",
    "        edges.append((item.u, new_item.u))\n",
    "\n",
    "    G = nx.DiGraph()\n",
    "\n",
    "    G.add_nodes_from(nodes)\n",
    "    G.add_edges_from(edges)\n",
    "    \n",
    "    return G"
   ]
  },
  {
   "attachments": {},
   "cell_type": "markdown",
   "metadata": {},
   "source": [
    "Вычисление структуры графа"
   ]
  },
  {
   "cell_type": "code",
   "execution_count": 13,
   "metadata": {},
   "outputs": [],
   "source": [
    "def calculate_structure(G:nx.DiGraph) -> str:\n",
    "    ans_structure = dict()\n",
    "    \n",
    "    # для каждой компоненты связности\n",
    "    for cycle in nx.simple_cycles(G):\n",
    "        # вычисление цикла\n",
    "        partial_structure = f'O_{len(cycle)} * T_'\n",
    "\n",
    "        # вычисление числа этажей в деревьях\n",
    "        cnt_tmp = 0\n",
    "        current_node = cycle[0]\n",
    "        preds_current_node = list(G.predecessors(current_node))\n",
    "        \n",
    "        # движение вверх по дереву\n",
    "        while len(preds_current_node) != 0:\n",
    "            cnt_tmp += 1\n",
    "            current_node = preds_current_node[-1]\n",
    "            current_node = set(preds_current_node).difference(set(cycle)).pop()\n",
    "            preds_current_node = list(G.predecessors(current_node))\n",
    "        \n",
    "        partial_structure += f'{2**cnt_tmp}'\n",
    "        if partial_structure in ans_structure: \n",
    "            ans_structure[partial_structure] += 1\n",
    "        else:\n",
    "            ans_structure[partial_structure] = 1\n",
    "    \n",
    "    ans = ''\n",
    "    ans_structure = dict(sorted(ans_structure.items(), key=lambda item : item [1], reverse=True))\n",
    "    for item in ans_structure.keys():\n",
    "        if ans_structure[item] > 1:\n",
    "            ans += f'{ans_structure[item]}({item}) + '\n",
    "        else:\n",
    "            ans += f'({item}) + '\n",
    "    ans = ans.removesuffix(\" + \")\n",
    "    return ans"
   ]
  },
  {
   "attachments": {},
   "cell_type": "markdown",
   "metadata": {},
   "source": [
    "Визуализация графа (для n > 7 немного непрактично)"
   ]
  },
  {
   "cell_type": "code",
   "execution_count": 14,
   "metadata": {},
   "outputs": [],
   "source": [
    "def draw_graph(n:int, G:nx.DiGraph, structure:str) -> None:\n",
    "\n",
    "    options = {\n",
    "        'node_color': 'black',\n",
    "        'node_size': 1000,\n",
    "        'width': 3,\n",
    "        'with_labels': True,\n",
    "        'font_weight': 'bold',\n",
    "        'font_color': 'w'}\n",
    "        \n",
    "    nx.draw(G, pos=nx.planar_layout(G), **options)\n",
    "    plt.title(structure + f'\\nпри n = {n}')\n",
    "    # plt.show()"
   ]
  },
  {
   "cell_type": "code",
   "execution_count": 15,
   "metadata": {},
   "outputs": [
    {
     "name": "stdout",
     "output_type": "stream",
     "text": [
      "При n = 14: 288(O_14 * T_4) + 9(O_7 * T_4) + (O_1 * T_4)\n"
     ]
    }
   ],
   "source": [
    "n = 14\n",
    "G = get_graph(n)\n",
    "print(f'При n = {n}: {calculate_structure(G)}')"
   ]
  },
  {
   "cell_type": "code",
   "execution_count": 19,
   "metadata": {},
   "outputs": [
    {
     "name": "stdout",
     "output_type": "stream",
     "text": [
      "При n = 15: 1091(O_15 * T_2) + 3(O_5 * T_2) + (O_1 * T_2) + (O_3 * T_2)\n"
     ]
    }
   ],
   "source": [
    "n = 15\n",
    "G = get_graph(n)\n",
    "print(f'При n = {n}: {calculate_structure(G)}')"
   ]
  },
  {
   "cell_type": "code",
   "execution_count": 20,
   "metadata": {},
   "outputs": [
    {
     "name": "stdout",
     "output_type": "stream",
     "text": [
      "При n = 16: (O_1 * T_65536)\n"
     ]
    }
   ],
   "source": [
    "n = 16\n",
    "G = get_graph(n)\n",
    "print(f'При n = {n}: {calculate_structure(G)}')"
   ]
  },
  {
   "cell_type": "code",
   "execution_count": 21,
   "metadata": {},
   "outputs": [
    {
     "name": "stdout",
     "output_type": "stream",
     "text": [
      "При n = 17: 256(O_255 * T_2) + 3(O_85 * T_2) + (O_1 * T_2)\n"
     ]
    }
   ],
   "source": [
    "n = 17\n",
    "G = get_graph(n)\n",
    "print(f'При n = {n}: {calculate_structure(G)}')"
   ]
  },
  {
   "cell_type": "code",
   "execution_count": 22,
   "metadata": {},
   "outputs": [
    {
     "name": "stdout",
     "output_type": "stream",
     "text": [
      "При n = 18: 518(O_126 * T_4) + 4(O_63 * T_4) + 2(O_6 * T_4) + (O_1 * T_4) + (O_3 * T_4)\n"
     ]
    }
   ],
   "source": [
    "n = 18\n",
    "G = get_graph(n)\n",
    "print(f'При n = {n}: {calculate_structure(G)}')"
   ]
  },
  {
   "cell_type": "code",
   "execution_count": 23,
   "metadata": {},
   "outputs": [
    {
     "name": "stdout",
     "output_type": "stream",
     "text": [
      "При n = 19: 27(O_9709 * T_2) + (O_1 * T_2)\n"
     ]
    }
   ],
   "source": [
    "n = 19\n",
    "G = get_graph(n)\n",
    "print(f'При n = {n}: {calculate_structure(G)}')"
   ]
  },
  {
   "cell_type": "code",
   "execution_count": 24,
   "metadata": {},
   "outputs": [
    {
     "name": "stdout",
     "output_type": "stream",
     "text": [
      "При n = 20: 1088(O_60 * T_16) + 8(O_30 * T_16) + (O_1 * T_16) + (O_15 * T_16)\n"
     ]
    }
   ],
   "source": [
    "n = 20\n",
    "G = get_graph(n)\n",
    "print(f'При n = {n}: {calculate_structure(G)}')"
   ]
  },
  {
   "attachments": {},
   "cell_type": "markdown",
   "metadata": {},
   "source": [
    "Для остальных n начинаются проблемы с памятью"
   ]
  },
  {
   "cell_type": "code",
   "execution_count": 25,
   "metadata": {},
   "outputs": [
    {
     "name": "stdout",
     "output_type": "stream",
     "text": [
      "При n = 21: 16640(O_63 * T_2) + 9(O_7 * T_2) + 9(O_21 * T_2) + (O_1 * T_2) + (O_3 * T_2)\n"
     ]
    }
   ],
   "source": [
    "n = 21\n",
    "G = get_graph(n)\n",
    "print(f'При n = {n}: {calculate_structure(G)}')"
   ]
  },
  {
   "cell_type": "code",
   "execution_count": 26,
   "metadata": {},
   "outputs": [
    {
     "name": "stdout",
     "output_type": "stream",
     "text": [
      "При n = 22: 1536(O_682 * T_4) + 3(O_341 * T_4) + (O_1 * T_4)\n"
     ]
    }
   ],
   "source": [
    "n = 22\n",
    "G = get_graph(n)\n",
    "print(f'При n = {n}: {calculate_structure(G)}')"
   ]
  },
  {
   "cell_type": "code",
   "execution_count": null,
   "metadata": {},
   "outputs": [],
   "source": [
    "n = 23\n",
    "G = get_graph(n)\n",
    "print(f'При n = {n}: {calculate_structure(G)}')"
   ]
  },
  {
   "cell_type": "code",
   "execution_count": null,
   "metadata": {},
   "outputs": [],
   "source": [
    "# for n in range(14, 23):\n",
    "#     G = get_graph(n)\n",
    "#     print(f'При n = {n}: {calculate_structure(G)}')\n",
    "#     # plt.figure(n)\n",
    "#     # draw_graph(n, G, calculate_structure(G))\n",
    "\n",
    "# # plt.show()"
   ]
  },
  {
   "attachments": {},
   "cell_type": "markdown",
   "metadata": {},
   "source": [
    "Поиск вершины в графе"
   ]
  },
  {
   "cell_type": "code",
   "execution_count": 16,
   "metadata": {},
   "outputs": [],
   "source": [
    "def get_node_level_n_root(x, n) -> int:\n",
    "    G = get_graph(n)\n",
    "    current_node = x\n",
    "    level = 0\n",
    "    roots = [item for sublist in nx.simple_cycles(G) for item in sublist]\n",
    "    while current_node not in roots:\n",
    "        level += 1\n",
    "        current_node = list(G.successors(current_node))[0]\n",
    "    return level, current_node"
   ]
  },
  {
   "attachments": {},
   "cell_type": "markdown",
   "metadata": {},
   "source": [
    "Вычисление арифметического логарифма $l(k)$, $a^{l(k)} \\equiv k (mod \\, p)$:"
   ]
  },
  {
   "cell_type": "code",
   "execution_count": 17,
   "metadata": {},
   "outputs": [],
   "source": [
    "def arithmetic_log(k, p, a, a_set) -> int:\n",
    "    for l in a_set:\n",
    "        if pow(a, l, p) == k % p:\n",
    "            return l\n",
    "        "
   ]
  },
  {
   "attachments": {},
   "cell_type": "markdown",
   "metadata": {},
   "source": [
    "Вычисление арифметического логарифма для $p = 7, 11, 13, 17, 19, 23$"
   ]
  },
  {
   "cell_type": "code",
   "execution_count": 18,
   "metadata": {},
   "outputs": [
    {
     "name": "stdout",
     "output_type": "stream",
     "text": [
      "p = 7, n = 6, ненулевые остатки от деления: {1, 2, 3, 4, 5, 6}\n",
      "a = 3, степени 3 по модулю 7: {1, 2, 3, 4, 5, 6}\n",
      "Вершина X = 11 располагается на 2 этаже от цикла x = 39.\n",
      "\n",
      "p = 11, n = 10, ненулевые остатки от деления: {1, 2, 3, 4, 5, 6, 7, 8, 9, 10}\n",
      "a = 2, степени 2 по модулю 11: {1, 2, 3, 4, 5, 6, 7, 8, 9, 10}\n",
      "Вершина X = 285 располагается на 2 этаже от цикла x = 360.\n",
      "\n",
      "p = 13, n = 12, ненулевые остатки от деления: {1, 2, 3, 4, 5, 6, 7, 8, 9, 10, 11, 12}\n",
      "a = 2, степени 2 по модулю 13: {1, 2, 3, 4, 5, 6, 7, 8, 9, 10, 11, 12}\n",
      "Вершина X = 1266 располагается на 3 этаже от цикла x = 2381.\n",
      "\n",
      "p = 17, n = 16, ненулевые остатки от деления: {1, 2, 3, 4, 5, 6, 7, 8, 9, 10, 11, 12, 13, 14, 15, 16}\n",
      "a = 3, степени 3 по модулю 17: {1, 2, 3, 4, 5, 6, 7, 8, 9, 10, 11, 12, 13, 14, 15, 16}\n",
      "Вершина X = 11892 располагается на 13 этаже от цикла x = 0.\n",
      "\n",
      "p = 19, n = 18, ненулевые остатки от деления: {1, 2, 3, 4, 5, 6, 7, 8, 9, 10, 11, 12, 13, 14, 15, 16, 17, 18}\n",
      "a = 2, степени 2 по модулю 19: {1, 2, 3, 4, 5, 6, 7, 8, 9, 10, 11, 12, 13, 14, 15, 16, 17, 18}\n",
      "Вершина X = 99705 располагается на 2 этаже от цикла x = 233628.\n",
      "\n",
      "p = 23, n = 22, ненулевые остатки от деления: {1, 2, 3, 4, 5, 6, 7, 8, 9, 10, 11, 12, 13, 14, 15, 16, 17, 18, 19, 20, 21, 22}\n",
      "a = 5, степени 5 по модулю 23: {1, 2, 3, 4, 5, 6, 7, 8, 9, 10, 11, 12, 13, 14, 15, 16, 17, 18, 19, 20, 21, 22}\n",
      "Вершина X = 170415 располагается на 2 этаже от цикла x = 589587.\n",
      "\n"
     ]
    }
   ],
   "source": [
    "for p in [7, 11, 13, 17, 19, 23]:\n",
    "    n = p - 1\n",
    "    # нахождение ненулевых остатков\n",
    "    remainders = set(range(1, p))\n",
    "    print(f'p = {p}, n = {n}, ненулевые остатки от деления: {remainders}')\n",
    "\n",
    "    # подбор a\n",
    "    for a in range(2, p):\n",
    "        a_set = set()\n",
    "        for power in range(1, p):\n",
    "            a_set.add(pow(a, power, p))\n",
    "        if a_set == remainders: break\n",
    "    \n",
    "    if a_set != remainders:\n",
    "        print(f'не удалось найти подходяее a\\n')\n",
    "        continue\n",
    "    \n",
    "    print(f'a = {a}, степени {a} по модулю {p}: {a_set}')\n",
    "\n",
    "    # формирование вектора l\n",
    "    l_k = [arithmetic_log(k, p, a, a_set) for k in range(1, p)]\n",
    "    l_bin = [item % 2 for item in l_k]\n",
    "\n",
    "    # вычисление x\n",
    "    x = 0\n",
    "    for i in range(len(l_bin)):\n",
    "        x += l_bin[i] * 2**(len(l_bin) - i - 1)\n",
    "    \n",
    "    # нахождение положения x\n",
    "    level, root = get_node_level_n_root(x, n)\n",
    "\n",
    "    print(f'Вершина X = {x} располагается на {level} этаже от цикла x = {root}.\\n')\n"
   ]
  }
 ],
 "metadata": {
  "kernelspec": {
   "display_name": "Python 3",
   "language": "python",
   "name": "python3"
  },
  "language_info": {
   "codemirror_mode": {
    "name": "ipython",
    "version": 3
   },
   "file_extension": ".py",
   "mimetype": "text/x-python",
   "name": "python",
   "nbconvert_exporter": "python",
   "pygments_lexer": "ipython3",
   "version": "3.10.4"
  },
  "orig_nbformat": 4,
  "vscode": {
   "interpreter": {
    "hash": "a42ccb73e7d9bfdf27e036f1d2b8b681e55fc0743cc5586bc2474d4a60f4b886"
   }
  }
 },
 "nbformat": 4,
 "nbformat_minor": 2
}
