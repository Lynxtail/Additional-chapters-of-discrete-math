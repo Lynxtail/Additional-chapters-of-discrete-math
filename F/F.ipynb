{
 "cells": [
  {
   "attachments": {},
   "cell_type": "markdown",
   "metadata": {},
   "source": [
    "# [Репозиторий](https://github.com/Lynxtail/Additional-chapters-of-fundamental-training)"
   ]
  },
  {
   "attachments": {},
   "cell_type": "markdown",
   "metadata": {},
   "source": [
    "## Задание F, вариант 1"
   ]
  },
  {
   "attachments": {},
   "cell_type": "markdown",
   "metadata": {},
   "source": [
    "### Для натуральных $n = 14, 15, \\dots, 22$ вычислить структуры графов операций взятия разностей. Вычислить логарифмы при $p = 7, 11, 13, 17, 19, 23$ и найти соотвествующие им вершины $X$ в графах операций взятия разностей."
   ]
  },
  {
   "cell_type": "code",
   "execution_count": 54,
   "metadata": {},
   "outputs": [],
   "source": [
    "import matplotlib.pyplot as plt\n",
    "import networkx as nx\n",
    "import bitstring as bs\n",
    "from typing import Any"
   ]
  },
  {
   "attachments": {},
   "cell_type": "markdown",
   "metadata": {},
   "source": [
    "Оператор взятия разности"
   ]
  },
  {
   "cell_type": "code",
   "execution_count": 92,
   "metadata": {},
   "outputs": [],
   "source": [
    "def A_diff(n : int, x : bs.BitArray) -> bs.BitArray:\n",
    "    y = bs.BitArray(uint=0, length=n)\n",
    "\n",
    "    for i in range(len(x.b) - 1):\n",
    "        y.set(int(x.b[i + 1]) ^ int(x.b[i]), i)\n",
    "    y.set(int(x.b[0]) ^ int(x.b[-1]), -1)\n",
    "\n",
    "    return y"
   ]
  },
  {
   "cell_type": "code",
   "execution_count": 101,
   "metadata": {},
   "outputs": [
    {
     "name": "stdout",
     "output_type": "stream",
     "text": [
      "00 ---> 00\n",
      "01 ---> 11\n",
      "10 ---> 11\n",
      "11 ---> 00\n",
      "[0, 1, 2, 3]\n",
      "[(0, 0), (1, 3), (2, 3), (3, 0)]\n"
     ]
    }
   ],
   "source": [
    "n = 2\n",
    "# формирование списка узлов\n",
    "nodes = list(range(2**n))\n",
    "edges = list()\n",
    "\n",
    "# операция взятия разности для элементов x\n",
    "for item in nodes:\n",
    "    item = bs.BitArray(uint=item, length=n)\n",
    "    new_item = A_diff(n, item)\n",
    "    print(f\"{item.b} ---> {new_item.b}\")\n",
    "    edges.append((item.u, new_item.u))\n",
    "    "
   ]
  },
  {
   "cell_type": "code",
   "execution_count": null,
   "metadata": {},
   "outputs": [],
   "source": [
    "def"
   ]
  },
  {
   "cell_type": "code",
   "execution_count": 126,
   "metadata": {},
   "outputs": [
    {
     "name": "stdout",
     "output_type": "stream",
     "text": [
      "O_1 + T_DiGraph with 4 nodes and 2 edges\n"
     ]
    },
    {
     "ename": "NetworkXNotImplemented",
     "evalue": "not implemented for directed type",
     "output_type": "error",
     "traceback": [
      "\u001b[1;31m---------------------------------------------------------------------------\u001b[0m",
      "\u001b[1;31mNetworkXNotImplemented\u001b[0m                    Traceback (most recent call last)",
      "\u001b[1;32me:\\NoCode\\Additional-chapters-of-fundamental-training\\F\\F.ipynb Cell 9\u001b[0m in \u001b[0;36m<cell line: 9>\u001b[1;34m()\u001b[0m\n\u001b[0;32m      <a href='vscode-notebook-cell:/e%3A/NoCode/Additional-chapters-of-fundamental-training/F/F.ipynb#W5sZmlsZQ%3D%3D?line=6'>7</a>\u001b[0m \u001b[39m# поиск числа узлов в дереве\u001b[39;00m\n\u001b[0;32m      <a href='vscode-notebook-cell:/e%3A/NoCode/Additional-chapters-of-fundamental-training/F/F.ipynb#W5sZmlsZQ%3D%3D?line=7'>8</a>\u001b[0m \u001b[39mprint\u001b[39m(\u001b[39mf\u001b[39m\u001b[39m'\u001b[39m\u001b[39mO_\u001b[39m\u001b[39m{\u001b[39;00m\u001b[39mlen\u001b[39m(\u001b[39mlist\u001b[39m(nx\u001b[39m.\u001b[39msimple_cycles(G)))\u001b[39m}\u001b[39;00m\u001b[39m + T_\u001b[39m\u001b[39m{\u001b[39;00mnx\u001b[39m.\u001b[39mmaximum_branching(G)\u001b[39m}\u001b[39;00m\u001b[39m'\u001b[39m)\n\u001b[1;32m----> <a href='vscode-notebook-cell:/e%3A/NoCode/Additional-chapters-of-fundamental-training/F/F.ipynb#W5sZmlsZQ%3D%3D?line=8'>9</a>\u001b[0m \u001b[39mfor\u001b[39;00m i \u001b[39min\u001b[39;00m nx\u001b[39m.\u001b[39;49mnumber_connected_components(G) \u001b[39m-\u001b[39m \u001b[39m1\u001b[39m:\n\u001b[0;32m     <a href='vscode-notebook-cell:/e%3A/NoCode/Additional-chapters-of-fundamental-training/F/F.ipynb#W5sZmlsZQ%3D%3D?line=9'>10</a>\u001b[0m     \u001b[39mprint\u001b[39m(\u001b[39mf\u001b[39m\u001b[39m'\u001b[39m\u001b[39m + O_\u001b[39m\u001b[39m{\u001b[39;00m\u001b[39mlen\u001b[39m(\u001b[39mlist\u001b[39m(nx\u001b[39m.\u001b[39msimple_cycles(G)))\u001b[39m}\u001b[39;00m\u001b[39m + T_\u001b[39m\u001b[39m{\u001b[39;00mnx\u001b[39m.\u001b[39mmaximum_branching(G)\u001b[39m}\u001b[39;00m\u001b[39m'\u001b[39m)\n\u001b[0;32m     <a href='vscode-notebook-cell:/e%3A/NoCode/Additional-chapters-of-fundamental-training/F/F.ipynb#W5sZmlsZQ%3D%3D?line=11'>12</a>\u001b[0m options \u001b[39m=\u001b[39m {\n\u001b[0;32m     <a href='vscode-notebook-cell:/e%3A/NoCode/Additional-chapters-of-fundamental-training/F/F.ipynb#W5sZmlsZQ%3D%3D?line=12'>13</a>\u001b[0m     \u001b[39m'\u001b[39m\u001b[39mnode_color\u001b[39m\u001b[39m'\u001b[39m: \u001b[39m'\u001b[39m\u001b[39mblack\u001b[39m\u001b[39m'\u001b[39m,\n\u001b[0;32m     <a href='vscode-notebook-cell:/e%3A/NoCode/Additional-chapters-of-fundamental-training/F/F.ipynb#W5sZmlsZQ%3D%3D?line=13'>14</a>\u001b[0m     \u001b[39m'\u001b[39m\u001b[39mnode_size\u001b[39m\u001b[39m'\u001b[39m: \u001b[39m1000\u001b[39m,\n\u001b[1;32m   (...)\u001b[0m\n\u001b[0;32m     <a href='vscode-notebook-cell:/e%3A/NoCode/Additional-chapters-of-fundamental-training/F/F.ipynb#W5sZmlsZQ%3D%3D?line=17'>18</a>\u001b[0m     \u001b[39m'\u001b[39m\u001b[39mfont_color\u001b[39m\u001b[39m'\u001b[39m: \u001b[39m'\u001b[39m\u001b[39mw\u001b[39m\u001b[39m'\u001b[39m\n\u001b[0;32m     <a href='vscode-notebook-cell:/e%3A/NoCode/Additional-chapters-of-fundamental-training/F/F.ipynb#W5sZmlsZQ%3D%3D?line=18'>19</a>\u001b[0m }\n",
      "File \u001b[1;32mc:\\Users\\Admin\\AppData\\Local\\Programs\\Python\\Python310\\lib\\site-packages\\networkx\\algorithms\\components\\connected.py:101\u001b[0m, in \u001b[0;36mnumber_connected_components\u001b[1;34m(G)\u001b[0m\n\u001b[0;32m     71\u001b[0m \u001b[39mdef\u001b[39;00m \u001b[39mnumber_connected_components\u001b[39m(G):\n\u001b[0;32m     72\u001b[0m     \u001b[39m\"\"\"Returns the number of connected components.\u001b[39;00m\n\u001b[0;32m     73\u001b[0m \n\u001b[0;32m     74\u001b[0m \u001b[39m    Parameters\u001b[39;00m\n\u001b[1;32m   (...)\u001b[0m\n\u001b[0;32m     99\u001b[0m \n\u001b[0;32m    100\u001b[0m \u001b[39m    \"\"\"\u001b[39;00m\n\u001b[1;32m--> 101\u001b[0m     \u001b[39mreturn\u001b[39;00m \u001b[39msum\u001b[39m(\u001b[39m1\u001b[39m \u001b[39mfor\u001b[39;00m cc \u001b[39min\u001b[39;00m connected_components(G))\n",
      "File \u001b[1;32mc:\\Users\\Admin\\AppData\\Local\\Programs\\Python\\Python310\\lib\\site-packages\\networkx\\classes\\backends.py:145\u001b[0m, in \u001b[0;36m_dispatch.<locals>.wrapper\u001b[1;34m(*args, **kwds)\u001b[0m\n\u001b[0;32m    141\u001b[0m         \u001b[39melse\u001b[39;00m:\n\u001b[0;32m    142\u001b[0m             \u001b[39mraise\u001b[39;00m NetworkXNotImplemented(\n\u001b[0;32m    143\u001b[0m                 \u001b[39mf\u001b[39m\u001b[39m\"\u001b[39m\u001b[39m'\u001b[39m\u001b[39m{\u001b[39;00mname\u001b[39m}\u001b[39;00m\u001b[39m'\u001b[39m\u001b[39m not implemented by \u001b[39m\u001b[39m{\u001b[39;00mplugin_name\u001b[39m}\u001b[39;00m\u001b[39m\"\u001b[39m\n\u001b[0;32m    144\u001b[0m             )\n\u001b[1;32m--> 145\u001b[0m \u001b[39mreturn\u001b[39;00m func(\u001b[39m*\u001b[39margs, \u001b[39m*\u001b[39m\u001b[39m*\u001b[39mkwds)\n",
      "File \u001b[1;32m<class 'networkx.utils.decorators.argmap'> compilation 16:3\u001b[0m, in \u001b[0;36margmap_connected_components_13\u001b[1;34m(G)\u001b[0m\n\u001b[0;32m      1\u001b[0m \u001b[39mimport\u001b[39;00m \u001b[39mbz2\u001b[39;00m\n\u001b[0;32m      2\u001b[0m \u001b[39mimport\u001b[39;00m \u001b[39mcollections\u001b[39;00m\n\u001b[1;32m----> 3\u001b[0m \u001b[39mimport\u001b[39;00m \u001b[39mgzip\u001b[39;00m\n\u001b[0;32m      4\u001b[0m \u001b[39mimport\u001b[39;00m \u001b[39minspect\u001b[39;00m\n\u001b[0;32m      5\u001b[0m \u001b[39mimport\u001b[39;00m \u001b[39mitertools\u001b[39;00m\n",
      "File \u001b[1;32mc:\\Users\\Admin\\AppData\\Local\\Programs\\Python\\Python310\\lib\\site-packages\\networkx\\utils\\decorators.py:86\u001b[0m, in \u001b[0;36mnot_implemented_for.<locals>._not_implemented_for\u001b[1;34m(g)\u001b[0m\n\u001b[0;32m     82\u001b[0m \u001b[39mdef\u001b[39;00m \u001b[39m_not_implemented_for\u001b[39m(g):\n\u001b[0;32m     83\u001b[0m     \u001b[39mif\u001b[39;00m (mval \u001b[39mis\u001b[39;00m \u001b[39mNone\u001b[39;00m \u001b[39mor\u001b[39;00m mval \u001b[39m==\u001b[39m g\u001b[39m.\u001b[39mis_multigraph()) \u001b[39mand\u001b[39;00m (\n\u001b[0;32m     84\u001b[0m         dval \u001b[39mis\u001b[39;00m \u001b[39mNone\u001b[39;00m \u001b[39mor\u001b[39;00m dval \u001b[39m==\u001b[39m g\u001b[39m.\u001b[39mis_directed()\n\u001b[0;32m     85\u001b[0m     ):\n\u001b[1;32m---> 86\u001b[0m         \u001b[39mraise\u001b[39;00m nx\u001b[39m.\u001b[39mNetworkXNotImplemented(errmsg)\n\u001b[0;32m     88\u001b[0m     \u001b[39mreturn\u001b[39;00m g\n",
      "\u001b[1;31mNetworkXNotImplemented\u001b[0m: not implemented for directed type"
     ]
    }
   ],
   "source": [
    "G = nx.DiGraph()\n",
    "\n",
    "\n",
    "G.add_nodes_from(nodes)\n",
    "G.add_edges_from(edges)\n",
    "\n",
    "# поиск числа узлов в дереве\n",
    "# ToDo: поиск числа этажей в деревьях для каждой компоненты связости (O_m + T_{2^N})\n",
    "print(f'O_{len(list(nx.simple_cycles(G)))} + T_{nx.maximum_branching(G)}')\n",
    "for i in nx.number_connected_components(G) - 1:\n",
    "    print(f' + O_{len(list(nx.simple_cycles(G)))} + T_{nx.maximum_branching(G)}')\n",
    "\n",
    "options = {\n",
    "    'node_color': 'black',\n",
    "    'node_size': 1000,\n",
    "    'width': 3,\n",
    "    'with_labels': True,\n",
    "    'font_weight': 'bold',\n",
    "    'font_color': 'w'\n",
    "}\n",
    "nx.draw(G, **options)\n",
    "plt.show()"
   ]
  }
 ],
 "metadata": {
  "kernelspec": {
   "display_name": "Python 3",
   "language": "python",
   "name": "python3"
  },
  "language_info": {
   "codemirror_mode": {
    "name": "ipython",
    "version": 3
   },
   "file_extension": ".py",
   "mimetype": "text/x-python",
   "name": "python",
   "nbconvert_exporter": "python",
   "pygments_lexer": "ipython3",
   "version": "3.10.4"
  },
  "orig_nbformat": 4,
  "vscode": {
   "interpreter": {
    "hash": "a42ccb73e7d9bfdf27e036f1d2b8b681e55fc0743cc5586bc2474d4a60f4b886"
   }
  }
 },
 "nbformat": 4,
 "nbformat_minor": 2
}
