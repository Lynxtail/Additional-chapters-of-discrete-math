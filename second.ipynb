{
 "cells": [
  {
   "cell_type": "markdown",
   "metadata": {},
   "source": [
    "# Ссылка на [репозиторий](https://github.com/Lynxtail/Additional-chapters-of-fundamental-training)\n",
    "\n",
    "* [Задания A и A*](https://drive.google.com/file/d/15ESvtCxtjeayEYR31UNV5HtwuTwgE9hD/view?usp=sharing)\n",
    "* [Задание B](https://drive.google.com/file/d/1nPwEcHYR5Wbm6tPV8am0wja6dZPkrirD/view?usp=sharing)"
   ]
  },
  {
   "cell_type": "markdown",
   "metadata": {},
   "source": [
    "## Задание B, вариант 1\n",
    "\n",
    "(не завершено)"
   ]
  },
  {
   "cell_type": "markdown",
   "metadata": {},
   "source": [
    "### Построить проекции в единичном квадрате плоскости для функций из предыдущих заданий с точностью до заданных k = 1, 2, 3, . . . разрядов."
   ]
  },
  {
   "cell_type": "markdown",
   "metadata": {},
   "source": [
    "$ f(x) = 11 - 3x + 2x^2 $\n",
    "\n",
    "$ g(x) = 13x - 1 $"
   ]
  },
  {
   "cell_type": "markdown",
   "metadata": {},
   "source": [
    "Ввод коэффициентов в порядке убывания порядка степеней (e.g \"2 -3 11\" для первого полинома) через пробел ячейкой ниже:"
   ]
  },
  {
   "cell_type": "code",
   "execution_count": 3,
   "metadata": {},
   "outputs": [],
   "source": [
    "import matplotlib.pyplot as plt"
   ]
  },
  {
   "cell_type": "code",
   "execution_count": 13,
   "metadata": {},
   "outputs": [],
   "source": [
    "# z = input().split(' ')\n",
    "# z = list(map(float, z))\n",
    "\n",
    "# z = (2, -3, 11)\n",
    "z = (5, 3)\n",
    "\n",
    "f = lambda x, z : sum([z[i]*x**(len(z) - 1 - i) for i in range(len(z))])"
   ]
  },
  {
   "cell_type": "code",
   "execution_count": 14,
   "metadata": {},
   "outputs": [],
   "source": [
    "k = int(input('Ввод k: '))\n",
    "p = 2\n",
    "\n",
    "l_s = range(p**k)\n",
    "\n",
    "x_s = [item / p**k for item in l_s]\n",
    "y_s = [f(x, z) % p**k / p**k for x in l_s]"
   ]
  },
  {
   "cell_type": "code",
   "execution_count": 15,
   "metadata": {},
   "outputs": [
    {
     "data": {
      "image/png": "[encoded data removed]",
      "text/plain": [
       "<Figure size 432x288 with 1 Axes>"
      ]
     },
     "metadata": {
      "needs_background": "light"
     },
     "output_type": "display_data"
    }
   ],
   "source": [
    "plt.plot(x_s, y_s)\n",
    "plt.show()"
   ]
  },
  {
   "cell_type": "code",
   "execution_count": null,
   "metadata": {},
   "outputs": [],
   "source": []
  }
 ],
 "metadata": {
  "kernelspec": {
   "display_name": "Python 3.9.7 64-bit",
   "language": "python",
   "name": "python3"
  },
  "language_info": {
   "codemirror_mode": {
    "name": "ipython",
    "version": 3
   },
   "file_extension": ".py",
   "mimetype": "text/x-python",
   "name": "python",
   "nbconvert_exporter": "python",
   "pygments_lexer": "ipython3",
   "version": "3.9.7"
  },
  "orig_nbformat": 4,
  "vscode": {
   "interpreter": {
    "hash": "0d591c6e422414675974e227c13f5382000c440fedd3c5006ef2be5d887f0ba7"
   }
  }
 },
 "nbformat": 4,
 "nbformat_minor": 2
}
