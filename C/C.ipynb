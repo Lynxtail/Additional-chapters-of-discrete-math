{
 "cells": [
  {
   "cell_type": "markdown",
   "metadata": {},
   "source": [
    "# Ссылка на [репозиторий](https://github.com/Lynxtail/Additional-chapters-of-fundamental-training)\n",
    "\n",
    "* [Задания A и A*](https://drive.google.com/file/d/15ESvtCxtjeayEYR31UNV5HtwuTwgE9hD/view?usp=sharing)\n",
    "* [Задание B](https://drive.google.com/file/d/1nPwEcHYR5Wbm6tPV8am0wja6dZPkrirD/view?usp=sharing)\n",
    "* [Задание C](https://drive.google.com/file/d/18ysVZXjaNIv_4NRoSRq0ZfmmMMHvu5RU/view?usp=sharing)\n",
    "* [Задание D](https://drive.google.com/file/d/174bG7yrtb4m3svCWWl91xPobmp3Rvqvb/view?usp=sharing)\n",
    "* [задание E](https://drive.google.com/file/d/120LYB7iRTVEn04hItIzmWkZCm0fmEdTf/view?usp=sharing)"
   ]
  },
  {
   "cell_type": "markdown",
   "metadata": {},
   "source": [
    "## Задание C, вариант 1"
   ]
  },
  {
   "cell_type": "markdown",
   "metadata": {},
   "source": [
    "### Построить $\\beta$-проекции с точностью до заданных $k$ разрядов для функций из предыдущего задания при $\\beta = 2^{1/n}$ (для $n = 2, 3, . . . , 100)$."
   ]
  },
  {
   "cell_type": "markdown",
   "metadata": {},
   "source": [
    "$ f(x) = 11 - 3x + 2x^2 $\n",
    "\n",
    "$ g(x) = 13x - 1 $"
   ]
  },
  {
   "cell_type": "code",
   "execution_count": 1,
   "metadata": {},
   "outputs": [],
   "source": [
    "import matplotlib.pyplot as plt"
   ]
  },
  {
   "cell_type": "code",
   "execution_count": 2,
   "metadata": {},
   "outputs": [],
   "source": [
    "def dec_to_beta(x, k, beta):\n",
    "    bin = format(x, 'b')\n",
    "    bin = bin[max(0, len(bin) - k) :][::-1]\n",
    "    res = 0\n",
    "    for i in range(len(bin)):\n",
    "        res += int(bin[i]) * beta**i\n",
    "    return res"
   ]
  },
  {
   "cell_type": "code",
   "execution_count": 3,
   "metadata": {},
   "outputs": [],
   "source": [
    "p = 2\n",
    "k = int(input('Ввод k: '))\n",
    "n = int(input('Ввод n: '))\n",
    "\n",
    "beta = 2**(1 / n)\n",
    "\n",
    "f = lambda x, z : sum([z[i]*x**(len(z) - 1 - i) for i in range(len(z))])"
   ]
  },
  {
   "cell_type": "markdown",
   "metadata": {},
   "source": [
    "Ввод коэффициентов в порядке убывания порядка степеней (e.g \"2 -3 11\" для первого полинома, \"13 -1\" — для второго) через пробел ячейкой ниже:"
   ]
  },
  {
   "cell_type": "code",
   "execution_count": 4,
   "metadata": {},
   "outputs": [],
   "source": [
    "# z = [2, -3, 11]\n",
    "# z = [13, -1]\n",
    "\n",
    "z = input('Ввод коэффициентов полинома: ').split(' ')\n",
    "z = list(map(int, z))\n",
    "\n",
    "polynom_str = ''\n",
    "for i in range(len(z) - 1):\n",
    "    polynom_str += f'{z[i]} * x^{len(z) - 1 - i} + '\n",
    "polynom_str += f'{z[len(z) - 1]}'"
   ]
  },
  {
   "cell_type": "code",
   "execution_count": 5,
   "metadata": {},
   "outputs": [],
   "source": [
    "l_s = list(range(p**k))\n",
    "\n",
    "x_s = [(dec_to_beta(x, k, beta) / beta**k) % 1 for x in l_s]\n",
    "y_s = [(dec_to_beta(f(x, z), k, beta) / beta**k) % 1 for x in l_s]"
   ]
  },
  {
   "cell_type": "code",
   "execution_count": 6,
   "metadata": {},
   "outputs": [
    {
     "data": {
      "image/png": "[encoded data removed]",
      "text/plain": [
       "<Figure size 432x288 with 1 Axes>"
      ]
     },
     "metadata": {
      "needs_background": "light"
     },
     "output_type": "display_data"
    }
   ],
   "source": [
    "plt.scatter(x_s, y_s, s=1)\n",
    "plt.title(f'beta-projection for\\nf(x) = {polynom_str}, with k = {k}, n = {n}')\n",
    "plt.show()"
   ]
  }
 ],
 "metadata": {
  "kernelspec": {
   "display_name": "Python 3.9.7 64-bit",
   "language": "python",
   "name": "python3"
  },
  "language_info": {
   "codemirror_mode": {
    "name": "ipython",
    "version": 3
   },
   "file_extension": ".py",
   "mimetype": "text/x-python",
   "name": "python",
   "nbconvert_exporter": "python",
   "pygments_lexer": "ipython3",
   "version": "3.9.7"
  },
  "orig_nbformat": 4,
  "vscode": {
   "interpreter": {
    "hash": "0d591c6e422414675974e227c13f5382000c440fedd3c5006ef2be5d887f0ba7"
   }
  }
 },
 "nbformat": 4,
 "nbformat_minor": 2
}
